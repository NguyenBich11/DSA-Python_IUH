{
 "cells": [
  {
   "cell_type": "code",
   "execution_count": 12,
   "id": "a5164ec3",
   "metadata": {},
   "outputs": [],
   "source": [
    "class SinhVien:\n",
    "    def __init__(self, masv, ho_ten, ngay_sinh):\n",
    "        self.masv = masv\n",
    "        self.ho_ten = ho_ten\n",
    "        self.ngay_sinh = ngay_sinh"
   ]
  },
  {
   "cell_type": "code",
   "execution_count": 13,
   "id": "7c61b4de",
   "metadata": {},
   "outputs": [],
   "source": [
    "class Node:\n",
    "    def __init__(self, data = None):\n",
    "        self.data = data\n",
    "        self.left = None\n",
    "        self.right = None\n",
    "        \n",
    "    def add_node(self, student):\n",
    "        if self.data is None:\n",
    "            self.data = student\n",
    "            return True\n",
    "        else:\n",
    "            if student.masv < self.data.masv:\n",
    "                if self.left is None:\n",
    "                    self.left = Node(student)\n",
    "                    return True\n",
    "                else:\n",
    "                    self.left.add_node(student)\n",
    "            elif student.masv > self.data.masv:\n",
    "                if self.right is None:\n",
    "                    self.right = Node(student)\n",
    "                    return True\n",
    "                else:\n",
    "                    self.right.add_node(student)\n",
    "            else:\n",
    "                return False"
   ]
  },
  {
   "cell_type": "code",
   "execution_count": 14,
   "id": "d85bb1ed",
   "metadata": {},
   "outputs": [],
   "source": [
    "test = Node()"
   ]
  },
  {
   "cell_type": "code",
   "execution_count": 15,
   "id": "560f989a",
   "metadata": {},
   "outputs": [],
   "source": [
    "n = int(input(\"Nhập số lượng sinh viên muốn thêm: \"))\n",
    "\n",
    "for sv in range(n):\n",
    "    mssv = input(\"Nhập mã:\")\n",
    "    hoten = input(\"Nhập tên:\")\n",
    "    ngaysinh = input(\"Nhập ngày sinh:\")\n",
    "    \n",
    "    sv = SinhVien(mssv, hoten, ngaysinh)\n",
    "        \n",
    "    test.add_node(sv)"
   ]
  }
 ],
 "metadata": {
  "kernelspec": {
   "display_name": "my_env",
   "language": "python",
   "name": "python3"
  },
  "language_info": {
   "codemirror_mode": {
    "name": "ipython",
    "version": 3
   },
   "file_extension": ".py",
   "mimetype": "text/x-python",
   "name": "python",
   "nbconvert_exporter": "python",
   "pygments_lexer": "ipython3",
   "version": "3.12.5"
  }
 },
 "nbformat": 4,
 "nbformat_minor": 5
}
