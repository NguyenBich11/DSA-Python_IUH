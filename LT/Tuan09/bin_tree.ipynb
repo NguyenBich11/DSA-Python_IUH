{
 "cells": [
  {
   "cell_type": "code",
   "execution_count": 23,
   "metadata": {},
   "outputs": [],
   "source": [
    "class Node:\n",
    "    def __init__(self, data):\n",
    "        self.data = data\n",
    "        self.left = None\n",
    "        self.right = None\n",
    "        \n",
    "    def insert_data(self, item):\n",
    "        if self.data:\n",
    "            if item < self.data:\n",
    "                if self.left is None:\n",
    "                    self.left = Node(item)\n",
    "                else:\n",
    "                    self.left.insert_data(item)\n",
    "                    \n",
    "            elif item > self.data:\n",
    "                if self.right is None:\n",
    "                    self.right = Node(item)\n",
    "                else:\n",
    "                    self.right.insert_data(item)\n",
    "                    \n",
    "    def LNR(self):\n",
    "        if self.left:\n",
    "            self.left.LNR()\n",
    "            \n",
    "        print(self.data)\n",
    "            \n",
    "        if self.right:\n",
    "            self.right.LNR()\n",
    "            \n",
    "    def LRN(self):\n",
    "        if self.left:\n",
    "            self.left.LRN()\n",
    "            \n",
    "        if self.right:\n",
    "            self.right.LRN()\n",
    "        print(self.data)\n",
    "        \n",
    "    def NLR(self):  \n",
    "        print(self.data)\n",
    "        \n",
    "        if self.left:\n",
    "            self.left.NLR()\n",
    "            \n",
    "        if self.right:\n",
    "            self.right.NLR()\n",
    "            \n",
    "    def search(self, data):\n",
    "        if self.data == data:\n",
    "            return self\n",
    "        \n",
    "        if data < self.data and self.left:\n",
    "            return self.left.search(data)  \n",
    "        elif data < self.data and self.right:\n",
    "            return self.right.search(data)\n",
    "            \n",
    "        return None"
   ]
  },
  {
   "cell_type": "markdown",
   "metadata": {},
   "source": [
    "Giá trị nhỏ sẽ auto đi qua bên trái, giá trị lớn sẽ auto đi qua bên phải"
   ]
  },
  {
   "cell_type": "code",
   "execution_count": 24,
   "metadata": {},
   "outputs": [],
   "source": [
    "nodeR = Node(5)\n",
    "nodeR.insert_data(15)\n",
    "nodeR.insert_data(2)\n",
    "nodeR.insert_data(4)\n",
    "nodeR.insert_data(3)\n",
    "nodeR.insert_data(11)"
   ]
  },
  {
   "cell_type": "code",
   "execution_count": 25,
   "metadata": {},
   "outputs": [
    {
     "name": "stdout",
     "output_type": "stream",
     "text": [
      "2\n",
      "3\n",
      "4\n",
      "5\n",
      "11\n",
      "15\n"
     ]
    }
   ],
   "source": [
    "nodeR.LNR()"
   ]
  },
  {
   "cell_type": "code",
   "execution_count": 28,
   "metadata": {},
   "outputs": [
    {
     "name": "stdout",
     "output_type": "stream",
     "text": [
      "None\n"
     ]
    }
   ],
   "source": [
    "print(nodeR.search(19))"
   ]
  }
 ],
 "metadata": {
  "kernelspec": {
   "display_name": "my_env",
   "language": "python",
   "name": "python3"
  },
  "language_info": {
   "codemirror_mode": {
    "name": "ipython",
    "version": 3
   },
   "file_extension": ".py",
   "mimetype": "text/x-python",
   "name": "python",
   "nbconvert_exporter": "python",
   "pygments_lexer": "ipython3",
   "version": "3.12.5"
  }
 },
 "nbformat": 4,
 "nbformat_minor": 2
}
