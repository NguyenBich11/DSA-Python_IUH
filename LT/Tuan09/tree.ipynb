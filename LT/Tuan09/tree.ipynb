{
 "cells": [
  {
   "cell_type": "code",
   "execution_count": 30,
   "metadata": {},
   "outputs": [],
   "source": [
    "class Node:\n",
    "    def __init__(self, data):\n",
    "        self.data = data\n",
    "        self.ds = []\n",
    "        \n",
    "    def add_node(self, number):\n",
    "        self.ds.append(number)\n",
    "        \n",
    "    # in ra theo kiểu phân tầng\n",
    "    def in_node(self, level = 0):\n",
    "        intnet = \" \" * level\n",
    "        print(f\"{intnet} |--- {self.data}\")\n",
    "        \n",
    "        for i in self.ds:\n",
    "            i.in_node(level+1)\n",
    "            \n",
    "    def search_node(self, target):\n",
    "        if self.data == target:\n",
    "            return self\n",
    "        \n",
    "        for i in self.ds:\n",
    "            r = i.search_node(target)\n",
    "            \n",
    "            if r:\n",
    "                return r\n",
    "            \n",
    "        return None"
   ]
  },
  {
   "cell_type": "code",
   "execution_count": 31,
   "metadata": {},
   "outputs": [],
   "source": [
    "tree = Node(\"R\") #tạo ra node tên là R\n",
    "nodeA = Node(\"A\")\n",
    "nodeB = Node(\"B\")\n",
    "nodeC = Node(\"C\")\n",
    "\n",
    "nodeD = Node(\"D\")\n",
    "nodeE = Node(\"E\")\n",
    "\n",
    "tree.add_node(nodeA)\n",
    "tree.add_node(nodeB)\n",
    "tree.add_node(nodeC)\n",
    "\n",
    "nodeA.add_node(nodeD)\n",
    "nodeA.add_node(nodeE)\n",
    "\n",
    "nodeF = Node(\"F\")\n",
    "nodeG = Node(\"G\")\n",
    "nodeH = Node(\"H\")\n",
    "nodeI = Node(\"I\")\n",
    "\n",
    "nodeC.add_node(nodeF)\n",
    "nodeC.add_node(nodeG)\n",
    "nodeC.add_node(nodeH)\n",
    "nodeC.add_node(nodeI)\n"
   ]
  },
  {
   "cell_type": "code",
   "execution_count": 32,
   "metadata": {},
   "outputs": [
    {
     "name": "stdout",
     "output_type": "stream",
     "text": [
      " |--- R\n",
      "  |--- A\n",
      "   |--- D\n",
      "   |--- E\n",
      "  |--- B\n",
      "  |--- C\n",
      "   |--- F\n",
      "   |--- G\n",
      "   |--- H\n",
      "   |--- I\n"
     ]
    }
   ],
   "source": [
    "tree.in_node()"
   ]
  },
  {
   "cell_type": "code",
   "execution_count": 34,
   "metadata": {},
   "outputs": [
    {
     "name": "stdout",
     "output_type": "stream",
     "text": [
      "Kết quả tìm thấy :  A\n"
     ]
    }
   ],
   "source": [
    "data = nodeA.data\n",
    "rs = tree.search_node(data)\n",
    "\n",
    "if rs == None:\n",
    "    print(f\"Không tìm thấy được {data}\")\n",
    "else:\n",
    "    print(f\"Kết quả tìm thấy : \", data)"
   ]
  },
  {
   "cell_type": "code",
   "execution_count": null,
   "metadata": {},
   "outputs": [],
   "source": []
  }
 ],
 "metadata": {
  "kernelspec": {
   "display_name": "my_env",
   "language": "python",
   "name": "python3"
  },
  "language_info": {
   "codemirror_mode": {
    "name": "ipython",
    "version": 3
   },
   "file_extension": ".py",
   "mimetype": "text/x-python",
   "name": "python",
   "nbconvert_exporter": "python",
   "pygments_lexer": "ipython3",
   "version": "3.12.5"
  }
 },
 "nbformat": 4,
 "nbformat_minor": 2
}
