{
 "cells": [
  {
   "cell_type": "code",
   "execution_count": 40,
   "metadata": {},
   "outputs": [],
   "source": [
    "class SinhVien:\n",
    "    def __init__(self, id, name, gpa = None, age = None):\n",
    "        self.id = id\n",
    "        self.name = name\n",
    "        self.gpa = gpa\n",
    "        self.age = age\n",
    "        \n",
    "    def inThongTin(self):\n",
    "        return f\"MSSV: {self.id}, Ho ten: {self.name}, GPA: {self.gpa}, Age {self.age}\""
   ]
  },
  {
   "cell_type": "code",
   "execution_count": 41,
   "metadata": {},
   "outputs": [],
   "source": [
    "class SinhVienQuocTe(SinhVien):\n",
    "    def __init__(self, id, name, gpa, age, country, language_score = None):\n",
    "        super().__init__(id, name, gpa, age)\n",
    "        self.country = country\n",
    "        self.language_score =language_score\n",
    "        \n",
    "    def inThongTin(self):\n",
    "        return super().inThongTin() + f\"Country: {self.country}, Language Score: {self.language_score}\""
   ]
  },
  {
   "cell_type": "code",
   "execution_count": 42,
   "metadata": {},
   "outputs": [
    {
     "data": {
      "text/plain": [
       "'MSSV: 1, Ho ten: Bích, GPA: , Age Country: Vietnam, Language Score: 3'"
      ]
     },
     "execution_count": 42,
     "metadata": {},
     "output_type": "execute_result"
    }
   ],
   "source": [
    "sv1 = SinhVienQuocTe(1, 'Bích', '', '', 'Vietnam', 3)\n",
    "sv1.inThongTin()"
   ]
  },
  {
   "cell_type": "code",
   "execution_count": 43,
   "metadata": {},
   "outputs": [],
   "source": [
    "class SinhVienTotNghiep(SinhVien):\n",
    "    def __init__(self, id, name, gpa, age, thesisTitle):\n",
    "        super().__init__(id, name, gpa, age)\n",
    "        self.thesisTitle = thesisTitle\n",
    "        \n",
    "    def inThongTin(self):\n",
    "        return super().inThongTin() + f\"Thesis Title: {self.thesisTitle}\""
   ]
  },
  {
   "cell_type": "code",
   "execution_count": 44,
   "metadata": {},
   "outputs": [],
   "source": [
    "import collections\n",
    "\n",
    "class Stack:\n",
    "    def __init__(self):\n",
    "        self.stack = collections.deque()\n",
    "        \n",
    "    # Hàm kiểm tra có giá trị hay không\n",
    "    def is_empty(self):\n",
    "        return len(self.stack) == 0\n",
    "    \n",
    "    # đẩy phần tử vào\n",
    "    def push(self, item):\n",
    "        return self.stack.append(item)\n",
    "    \n",
    "    # lấy phần tử ra\n",
    "    def pop(self):\n",
    "        return self.stack.pop()"
   ]
  },
  {
   "cell_type": "code",
   "execution_count": 45,
   "metadata": {},
   "outputs": [],
   "source": [
    "class QLSV:\n",
    "    # thêm sv, xóa sv, tìm kiếm sv, sắp xếp sv, infile, đọc file\n",
    "    def __init__(self):\n",
    "       self.ds = Stack()\n",
    "       \n",
    "    # Thêm sinh viên\n",
    "    def addStudent(self, sv):\n",
    "        self.ds.push(sv)\n",
    "        \n",
    "    # Xóa sinh viên\n",
    "    def removeStudent(self):\n",
    "        if self.ds.is_empty():\n",
    "            return None\n",
    "        return self.ds.pop()\n",
    "    \n",
    "    # Tìm kiếm theo id\n",
    "    def searchByID(self, id):\n",
    "        for sv in self.ds:\n",
    "            if id == sv.id:\n",
    "                return sv\n",
    "            \n",
    "        return None\n",
    "    \n",
    "    # Cập nhật thông tin \n",
    "    def updateStudent(self, id, name, gpa, age):\n",
    "        if self.ds.searchByID(id):\n",
    "            if name:\n",
    "                self.ds.name = name\n",
    "            if gpa:\n",
    "                self.ds.gpa = gpa\n",
    "            if age:\n",
    "                self.ds.age = age"
   ]
  },
  {
   "cell_type": "code",
   "execution_count": null,
   "metadata": {},
   "outputs": [
    {
     "name": "stdout",
     "output_type": "stream",
     "text": [
      "Thông tin sinh viên: MSSV: 1, Ho ten: Bich 1, GPA: 8, Age 21\n",
      " MSSV: 2, Ho ten: Bich 2, GPA: 9, Age 20\n"
     ]
    }
   ],
   "source": [
    "n = int(input(\"Nhập số lượng sinh viên: \"))\n",
    "\n",
    "ql = QLSV()\n",
    "\n",
    "for i in range(n):\n",
    "    id = input(\"Nhập id sinh viên: \")\n",
    "    name = input(\"Nhập tên sinh viên: \")\n",
    "    gpa = input(\"Nhập điểm sinh viên: \")\n",
    "    age = input(\"Nhập tuổi sinh viên: \")\n",
    "    \n",
    "    \n",
    "    choice = int(input(\"1. Sinh viên quốc tế\\n2. Sinh viên tốt nghiệp\\nNhập loại sinh viên: \"))\n",
    "    \n",
    "    print(f\"Thông tin sinh viên: {sv.inThongTin()}\\n {sv2.inThongTin()}\")"
   ]
  }
 ],
 "metadata": {
  "kernelspec": {
   "display_name": "my_env",
   "language": "python",
   "name": "python3"
  },
  "language_info": {
   "codemirror_mode": {
    "name": "ipython",
    "version": 3
   },
   "file_extension": ".py",
   "mimetype": "text/x-python",
   "name": "python",
   "nbconvert_exporter": "python",
   "pygments_lexer": "ipython3",
   "version": "3.12.5"
  }
 },
 "nbformat": 4,
 "nbformat_minor": 2
}
