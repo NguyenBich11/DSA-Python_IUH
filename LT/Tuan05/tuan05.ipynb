{
 "cells": [
  {
   "cell_type": "code",
   "execution_count": 21,
   "metadata": {},
   "outputs": [],
   "source": [
    "import collections\n",
    "\n",
    "class Stack:\n",
    "    def __init__(self):\n",
    "        self.ds = collections.deque()\n",
    "        \n",
    "    # Hàm kiểm tra có giá trị hay không\n",
    "    def is_empty(self):\n",
    "        return len(self.ds) == 0\n",
    "    \n",
    "    # đẩy phần tử vào\n",
    "    def push(self, item):\n",
    "        return self.ds.append(item)\n",
    "    \n",
    "    # lấy phần tử ra\n",
    "    def pop(self):\n",
    "        return self.ds.pop()"
   ]
  },
  {
   "cell_type": "code",
   "execution_count": 16,
   "metadata": {},
   "outputs": [],
   "source": [
    "a = [5, 10, 15, 20]\n",
    "stack = Stack()"
   ]
  },
  {
   "cell_type": "code",
   "execution_count": null,
   "metadata": {},
   "outputs": [],
   "source": [
    "for item in a:\n",
    "    stack.push(item)"
   ]
  },
  {
   "cell_type": "code",
   "execution_count": 24,
   "metadata": {},
   "outputs": [
    {
     "name": "stdout",
     "output_type": "stream",
     "text": [
      "15\n",
      "10\n",
      "5\n",
      "20\n",
      "15\n",
      "10\n",
      "5\n",
      "20\n",
      "15\n",
      "10\n",
      "5\n",
      "20\n",
      "15\n",
      "10\n",
      "5\n",
      "20\n",
      "15\n",
      "10\n",
      "5\n"
     ]
    }
   ],
   "source": [
    "while not stack.is_empty():\n",
    "    print(stack.pop())"
   ]
  },
  {
   "cell_type": "code",
   "execution_count": 11,
   "metadata": {},
   "outputs": [],
   "source": [
    "sv1 = SinhVien(1, 'Bich')\n",
    "sv2 = SinhVien(2, 'Nga', 3, 20)"
   ]
  },
  {
   "cell_type": "markdown",
   "metadata": {},
   "source": [
    "Queue"
   ]
  },
  {
   "cell_type": "code",
   "execution_count": 27,
   "metadata": {},
   "outputs": [],
   "source": [
    "class Queue:\n",
    "    def __init__(self):\n",
    "        self.ds = []\n",
    "        \n",
    "    # Hàm kiểm tra có giá trị hay không\n",
    "    def is_empty(self):\n",
    "        return len(self.ds) == 0\n",
    "    \n",
    "    # đẩy phần tử vào\n",
    "    def push(self, item):\n",
    "        return self.ds.append(item)\n",
    "    \n",
    "    # lấy phần tử ra\n",
    "    def pop(self):\n",
    "        return self.ds.pop()"
   ]
  },
  {
   "cell_type": "code",
   "execution_count": 30,
   "metadata": {},
   "outputs": [],
   "source": [
    "queue = Queue()"
   ]
  },
  {
   "cell_type": "code",
   "execution_count": 35,
   "metadata": {},
   "outputs": [],
   "source": [
    "c = [5, 10, 15, 20]\n",
    "\n",
    "for i in c:\n",
    "    queue.push(i)"
   ]
  },
  {
   "cell_type": "code",
   "execution_count": 36,
   "metadata": {},
   "outputs": [
    {
     "name": "stdout",
     "output_type": "stream",
     "text": [
      "20\n",
      "15\n",
      "10\n",
      "5\n"
     ]
    }
   ],
   "source": [
    "while not queue.is_empty():\n",
    "    print(queue.pop())"
   ]
  },
  {
   "cell_type": "code",
   "execution_count": null,
   "metadata": {},
   "outputs": [],
   "source": [
    "# import collections\n",
    "\n",
    "# class Queue_1:\n",
    "#     def __init__(self):\n",
    "#         self.ds = collections.deque()\n",
    "        \n",
    "#     # Hàm kiểm tra có giá trị hay không\n",
    "#     def is_empty(self):\n",
    "#         return len(self.ds) == 0\n",
    "    \n",
    "#     # đẩy phần tử vào\n",
    "#     def push(self, item):\n",
    "#         return self.ds.append(item)\n",
    "    \n",
    "#     # lấy phần tử ra\n",
    "#     def pop(self):\n",
    "#         return self.ds.popleft()"
   ]
  }
 ],
 "metadata": {
  "kernelspec": {
   "display_name": "my_env",
   "language": "python",
   "name": "python3"
  },
  "language_info": {
   "codemirror_mode": {
    "name": "ipython",
    "version": 3
   },
   "file_extension": ".py",
   "mimetype": "text/x-python",
   "name": "python",
   "nbconvert_exporter": "python",
   "pygments_lexer": "ipython3",
   "version": "3.12.5"
  }
 },
 "nbformat": 4,
 "nbformat_minor": 2
}
