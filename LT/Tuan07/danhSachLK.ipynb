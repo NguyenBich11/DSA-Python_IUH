{
 "cells": [
  {
   "cell_type": "markdown",
   "metadata": {},
   "source": [
    "1 node luôn có data và con trỏ"
   ]
  },
  {
   "cell_type": "code",
   "execution_count": 53,
   "metadata": {},
   "outputs": [],
   "source": [
    "class Node:\n",
    "    def __init__(self, data):\n",
    "       self.data = data\n",
    "       self.pNext = None # do ban đầu chưa có địa chỉ để trỏ vô nên là rỗng"
   ]
  },
  {
   "cell_type": "code",
   "execution_count": null,
   "metadata": {},
   "outputs": [],
   "source": [
    "# Có cái túi tên là DSLK\n",
    "class DSLK:\n",
    "    def __init__(self):\n",
    "        self.pHead = None #ban đầu trong túi không có gì hết nên là rỗng\n",
    "        \n",
    "    # Kiểm tra xem túi có rỗng hay không\n",
    "    def is_empty(self):\n",
    "        return self.pHead is None\n",
    "    \n",
    "    def add_node(self, data):\n",
    "        new_node = Node(data)\n",
    "        \n",
    "        if self.is_empty():\n",
    "            self.pHead = new_node\n",
    "            return #không làm gì tiếp, không làm các đoạn code bên dưới luôn, văng ra\n",
    "        \n",
    "        current = self.pHead\n",
    "        while current.pNext:\n",
    "            current = current.pNext\n",
    "            \n",
    "        current.pNext = new_node\n",
    "        \n",
    "    def show_node(self):\n",
    "        arr = []\n",
    "        current = self.pHead\n",
    "        \n",
    "        # dòng lặp while khi gặp null là nó dừng\n",
    "        while current: #lấy ra cái cục -> chấm data để lấy được số trong node\n",
    "            arr.append(current.data)\n",
    "            current = current.pNext\n",
    "        print(\"->\".join(map(str, arr)))\n",
    "        \n",
    "    def pre_node(self, data): #thêm vào đầu dslk\n",
    "        new_node = Node(data)\n",
    "        new_node.pNext = self.pHead\n",
    "        self.pHead = new_node # độc phức tạp của thuật toán này là O(1) vì nó là chỉ định thẳng, không cần phải đi xét từng thằng\n",
    "        \n",
    "    def after_node(self, prev_node, data, data_prev):\n",
    "        new_node = Node(data)\n",
    "        prev_node = Node(data_prev)\n",
    "        prev_node.pNext = new_node.pNext\n",
    "        new_node.pNext = prev_node\n",
    "        \n",
    "    def search(self, data):\n",
    "        current = self.pHead\n",
    "        \n",
    "        while current:\n",
    "            if current.data == data:\n",
    "                return True\n",
    "            current = current.pNext\n",
    "            \n",
    "        return False\n",
    "    \n",
    "    # def update(self, )"
   ]
  },
  {
   "cell_type": "markdown",
   "metadata": {},
   "source": [
    "danh sách liên kết là nhận node, không nhận giá trị"
   ]
  },
  {
   "cell_type": "code",
   "execution_count": 60,
   "metadata": {},
   "outputs": [],
   "source": [
    "ds = DSLK()\n",
    "ds.is_empty()\n",
    "ds.add_node(2)\n",
    "ds.add_node(24)\n",
    "ds.add_node(25)"
   ]
  },
  {
   "cell_type": "code",
   "execution_count": 56,
   "metadata": {},
   "outputs": [
    {
     "name": "stdout",
     "output_type": "stream",
     "text": [
      "2->24->25\n"
     ]
    }
   ],
   "source": [
    "ds.show_node()"
   ]
  },
  {
   "cell_type": "code",
   "execution_count": 57,
   "metadata": {},
   "outputs": [],
   "source": [
    "ds.pre_node(3)"
   ]
  },
  {
   "cell_type": "code",
   "execution_count": 58,
   "metadata": {},
   "outputs": [
    {
     "name": "stdout",
     "output_type": "stream",
     "text": [
      "3->2->24->25\n"
     ]
    }
   ],
   "source": [
    "ds.show_node()"
   ]
  },
  {
   "cell_type": "code",
   "execution_count": 62,
   "metadata": {},
   "outputs": [],
   "source": [
    "# ds.after_node(2, 5)"
   ]
  },
  {
   "cell_type": "code",
   "execution_count": 65,
   "metadata": {},
   "outputs": [
    {
     "name": "stdout",
     "output_type": "stream",
     "text": [
      "tôi đã tìm thấy rồi, hahaa\n"
     ]
    }
   ],
   "source": [
    "search = ds.search(2)\n",
    "\n",
    "if search:\n",
    "    print(\"tôi đã tìm thấy rồi, hahaa\")\n",
    "else:\n",
    "    print(\"Tui không tìm thấy\")"
   ]
  },
  {
   "cell_type": "code",
   "execution_count": null,
   "metadata": {},
   "outputs": [],
   "source": []
  }
 ],
 "metadata": {
  "kernelspec": {
   "display_name": "my_env",
   "language": "python",
   "name": "python3"
  },
  "language_info": {
   "codemirror_mode": {
    "name": "ipython",
    "version": 3
   },
   "file_extension": ".py",
   "mimetype": "text/x-python",
   "name": "python",
   "nbconvert_exporter": "python",
   "pygments_lexer": "ipython3",
   "version": "3.12.5"
  }
 },
 "nbformat": 4,
 "nbformat_minor": 2
}
