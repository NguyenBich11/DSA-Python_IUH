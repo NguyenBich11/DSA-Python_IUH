{
 "cells": [
  {
   "cell_type": "code",
   "execution_count": 10,
   "metadata": {},
   "outputs": [],
   "source": [
    "# Tạo ra danh sách gồm 3 sinh viên\n",
    "my_list_sv = [\n",
    "    {\n",
    "        \"mssv\": 1,\n",
    "        \"hoten\": \"Nguyễn Văn A\",\n",
    "        \"diemVan\": 7,\n",
    "        \"diemToan\": 5,\n",
    "        \"diemLy\": 10\n",
    "    },\n",
    "    {\n",
    "        \"mssv\": 2,\n",
    "        \"hoten\": \"Trần Thị B\",\n",
    "        \"diemVan\": 9,\n",
    "        \"diemToan\": 8,\n",
    "        \"diemLy\": 9\n",
    "    },\n",
    "    {\n",
    "        \"mssv\": 2,\n",
    "        \"hoten\": \"Trần Thị B\",\n",
    "        \"diemVan\": 9,\n",
    "        \"diemToan\": 8,\n",
    "        \"diemLy\": 9\n",
    "    }\n",
    "]"
   ]
  },
  {
   "cell_type": "code",
   "execution_count": 11,
   "metadata": {},
   "outputs": [
    {
     "data": {
      "text/plain": [
       "10"
      ]
     },
     "execution_count": 11,
     "metadata": {},
     "output_type": "execute_result"
    }
   ],
   "source": [
    "my_list_sv[0][\"diemLy\"]"
   ]
  },
  {
   "cell_type": "code",
   "execution_count": 17,
   "metadata": {},
   "outputs": [],
   "source": [
    "# Viết 1 hàm để tính điểm trung bình\n",
    "def diemTB(van, toan, ly):\n",
    "    diemtb = (van + toan + ly) / 3\n",
    "    return diemtb"
   ]
  },
  {
   "cell_type": "code",
   "execution_count": 18,
   "metadata": {},
   "outputs": [
    {
     "data": {
      "text/plain": [
       "7.333333333333333"
      ]
     },
     "execution_count": 18,
     "metadata": {},
     "output_type": "execute_result"
    }
   ],
   "source": [
    "diemTB(my_list_sv[0][\"diemVan\"], my_list_sv[0][\"diemToan\"], my_list_sv[0][\"diemLy\"])"
   ]
  },
  {
   "cell_type": "code",
   "execution_count": 13,
   "metadata": {},
   "outputs": [],
   "source": [
    "dtb_sv1 = diemTB(my_list_sv[0][\"diemVan\"], my_list_sv[0][\"diemToan\"], my_list_sv[0][\"diemLy\"])"
   ]
  },
  {
   "cell_type": "code",
   "execution_count": 14,
   "metadata": {},
   "outputs": [
    {
     "data": {
      "text/plain": [
       "7.333333333333333"
      ]
     },
     "execution_count": 14,
     "metadata": {},
     "output_type": "execute_result"
    }
   ],
   "source": [
    "dtb_sv1"
   ]
  },
  {
   "cell_type": "code",
   "execution_count": 38,
   "metadata": {},
   "outputs": [
    {
     "name": "stdout",
     "output_type": "stream",
     "text": [
      "Sinh viên:  Nguyễn Văn A có điểm trung bình là:  7.333333333333333\n",
      "Sinh viên:  Trần Thị B có điểm trung bình là:  8.666666666666666\n",
      "Sinh viên:  Trần Thị B có điểm trung bình là:  8.666666666666666\n"
     ]
    }
   ],
   "source": [
    "for sv in range(len(my_list_sv)):\n",
    "    diemtb_sv = diemTB(my_list_sv[sv][\"diemVan\"], my_list_sv[sv][\"diemToan\"], my_list_sv[sv][\"diemLy\"])\n",
    "    print(\"Sinh viên: \", my_list_sv[sv][\"hoten\"], \"có điểm trung bình là: \", diemtb_sv)"
   ]
  },
  {
   "cell_type": "markdown",
   "metadata": {},
   "source": [
    "OOP"
   ]
  },
  {
   "cell_type": "code",
   "execution_count": 49,
   "metadata": {},
   "outputs": [
    {
     "name": "stdout",
     "output_type": "stream",
     "text": [
      "6.333333333333333\n",
      "7.666666666666667\n",
      "6.666666666666667\n"
     ]
    }
   ],
   "source": [
    "class Sinhvien:\n",
    "    def __init__(self, mssv, hoten, diemVan, diemToan, diemLy):\n",
    "        # thuộc tính\n",
    "        self.mssv = mssv\n",
    "        self.hoten = hoten\n",
    "        self.diemVan = diemVan\n",
    "        self.diemToan = diemToan\n",
    "        self.diemLy = diemLy\n",
    "        \n",
    "    # Phương thức\n",
    "    def diemTB(self):\n",
    "        return (self.diemVan + self.diemToan + self.diemLy) / 3\n",
    "\n",
    "sv1 = Sinhvien(1, \"Bích\", 5,6,8)\n",
    "sv2 = Sinhvien(2, \"Ngọc\", 7,9,7)\n",
    "sv3 = Sinhvien(3, \"Bí còn ten\", 4,7,9)\n",
    "\n",
    "print(sv1.diemTB())\n",
    "print(sv2.diemTB())\n",
    "print(sv3.diemTB())\n"
   ]
  },
  {
   "cell_type": "markdown",
   "metadata": {},
   "source": [
    "Bài tập\n",
    "- Nhân viên: msNV, hoTen, luongCB, heSoLuong <br>\n",
    "    Lương = luongCB * heSoLuong\n",
    "- Quản lý: msNV, hoTen, luongCB, heSoLuong, bonus <br>\n",
    "    Lương = luongCB * heSoLuong + bonus\n",
    "- Giám đốc: msNV, hoTen, luongCB, heSoLuong, bonus, dsCN <br>\n",
    "    Lương = luongCB * heSoLuong + bonus * 2\n"
   ]
  },
  {
   "cell_type": "markdown",
   "metadata": {},
   "source": []
  },
  {
   "cell_type": "code",
   "execution_count": 50,
   "metadata": {},
   "outputs": [],
   "source": [
    "class NhanVien:\n",
    "    def __init__(self, msNV, hoTen, luongCB, heSoLuong):\n",
    "        self.msNV = msNV\n",
    "        self.hoTen = hoTen\n",
    "        self.luongCB = luongCB\n",
    "        self.heSoLuong = heSoLuong\n",
    "        \n",
    "    def tinhLuong(self):\n",
    "        return self.luongCB * self.heSoLuong"
   ]
  },
  {
   "cell_type": "markdown",
   "metadata": {},
   "source": [
    "overloading: nhiều tham số hơn, đầu ra khác <br>\n",
    "overriding: đầu vô giống nhau, nhma đầu ra khác nhau -> ghi đè lên cái cũ"
   ]
  },
  {
   "cell_type": "code",
   "execution_count": 57,
   "metadata": {},
   "outputs": [],
   "source": [
    "class QuanLy(NhanVien):\n",
    "    def __init__(self, msNV, hoTen, luongCB, heSoLuong, bonus):\n",
    "        super().__init__(msNV, hoTen, luongCB, heSoLuong)\n",
    "        self.bonus = bonus\n",
    "        \n",
    "    def tinhLuong(self):\n",
    "        return self.luongCB * self.heSoLuong +self.bonus\n",
    "    "
   ]
  },
  {
   "cell_type": "code",
   "execution_count": 58,
   "metadata": {},
   "outputs": [],
   "source": [
    "class GiamDoc(NhanVien):\n",
    "    def __init__(self, msNV, hoTen, luongCB, heSoLuong, bonus, dsCN):\n",
    "        super().__init__(msNV, hoTen, luongCB, heSoLuong)\n",
    "        self.bonus = bonus\n",
    "        self.dsCN = dsCN\n",
    "        \n",
    "    def tinhLuong(self):\n",
    "        return self.luongCB * self.heSoLuong + (self.bonus * 2)"
   ]
  },
  {
   "cell_type": "code",
   "execution_count": 62,
   "metadata": {},
   "outputs": [
    {
     "name": "stdout",
     "output_type": "stream",
     "text": [
      "5000000\n",
      "5500000\n",
      "6000000\n"
     ]
    }
   ],
   "source": [
    "nv = NhanVien(\"nv1\", \"Bích\", 5000000, 1)\n",
    "ql = QuanLy(\"ql1\", \"Ngọc\", 5000000, 1, 500000)\n",
    "gd = GiamDoc(\"gd1\", \"Nguyễn\", 5000000, 1, 500000, 12)\n",
    "\n",
    "luong_cn = nv.tinhLuong()\n",
    "luong_ql = ql.tinhLuong()\n",
    "luong_gd = gd.tinhLuong()\n",
    "\n",
    "print(luong_cn)\n",
    "print(luong_ql)\n",
    "print(luong_gd)"
   ]
  },
  {
   "cell_type": "markdown",
   "metadata": {},
   "source": [
    "* Tính trừu tường(Abstract) -> về nhà tự tìm hiểu thêm để có thêm kiến thức\n",
    "    -  Lựa ra thuộc tính cần dùng cho bài toán"
   ]
  }
 ],
 "metadata": {
  "kernelspec": {
   "display_name": "Python 3",
   "language": "python",
   "name": "python3"
  },
  "language_info": {
   "codemirror_mode": {
    "name": "ipython",
    "version": 3
   },
   "file_extension": ".py",
   "mimetype": "text/x-python",
   "name": "python",
   "nbconvert_exporter": "python",
   "pygments_lexer": "ipython3",
   "version": "3.12.5"
  }
 },
 "nbformat": 4,
 "nbformat_minor": 2
}
