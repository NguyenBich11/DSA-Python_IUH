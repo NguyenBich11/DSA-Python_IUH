{
 "cells": [
  {
   "cell_type": "code",
   "execution_count": 1,
   "metadata": {},
   "outputs": [
    {
     "name": "stdout",
     "output_type": "stream",
     "text": [
      "Hello, world!\n"
     ]
    }
   ],
   "source": [
    "print(\"Hello, world!\")"
   ]
  },
  {
   "cell_type": "code",
   "execution_count": 7,
   "metadata": {},
   "outputs": [
    {
     "name": "stdout",
     "output_type": "stream",
     "text": [
      "Dien tich hinh tron: 12.56\n"
     ]
    }
   ],
   "source": [
    "# Bài 3: viết chương trình nhập vào bán kính của 1 hình tròn và tính diện tích.\n",
    "r = float(input(\"Enter r: \"))\n",
    "\n",
    "def dtht(r):\n",
    "    return 3.14 * r * r\n",
    "\n",
    "dt = dtht(r)\n",
    "\n",
    "print(f\"Dien tich hinh tron: {dt}\")"
   ]
  },
  {
   "cell_type": "code",
   "execution_count": 14,
   "metadata": {},
   "outputs": [
    {
     "data": {
      "text/plain": [
       "11"
      ]
     },
     "execution_count": 14,
     "metadata": {},
     "output_type": "execute_result"
    }
   ],
   "source": [
    "# Tìm số lớn nhất trong danh sách\n",
    "ds = [1,2,5,3,7,9,11]\n",
    "\n",
    "def sln(ds):\n",
    "    max = ds[0]\n",
    "    for i in range(len(ds)):\n",
    "        if(ds[i]>max):\n",
    "            max = ds[i]\n",
    "            \n",
    "    return max\n",
    "            \n",
    "sln(ds)"
   ]
  },
  {
   "cell_type": "code",
   "execution_count": 15,
   "metadata": {},
   "outputs": [
    {
     "name": "stdout",
     "output_type": "stream",
     "text": [
      "['1', '2']\n"
     ]
    }
   ],
   "source": [
    "n = int(input(\"Nhap so luot mong muon: \"))\n",
    "ds = []\n",
    "for item in range(n):\n",
    "    nhap = input(\"Nhập số: \")\n",
    "    ds.append(nhap)\n",
    "    \n",
    "print(ds)"
   ]
  },
  {
   "cell_type": "code",
   "execution_count": null,
   "metadata": {},
   "outputs": [
    {
     "name": "stdout",
     "output_type": "stream",
     "text": [
      "Danh sách số chẵn:  [2, 4]\n",
      "Danh sách số lẻ:  [1, 3]\n"
     ]
    }
   ],
   "source": [
    "# cho nhập danh sách tối thiểu n số, tìm ds số chẵn và ds số lẻ\n",
    "n = int(input(\"Nhap so luot mong muon: \"))\n",
    "ds = []\n",
    "for item in range(n):\n",
    "    nhap = int(input(\"Nhập số: \"))\n",
    "    ds.append(nhap)\n",
    "    \n",
    "ds_sochan = []\n",
    "ds_sole = []\n",
    "\n",
    "for i in range(len(ds)):\n",
    "    if(ds[i] % 2 == 0):\n",
    "        ds_sochan.append(ds[i])\n",
    "    else:\n",
    "        ds_sole.append(ds[i])\n",
    "    \n",
    "print(f\"Danh sách số chẵn: \", ds_sochan)\n",
    "print(f\"Danh sách số lẻ: \", ds_sole)\n",
    "        "
   ]
  }
 ],
 "metadata": {
  "kernelspec": {
   "display_name": "my_env",
   "language": "python",
   "name": "python3"
  },
  "language_info": {
   "codemirror_mode": {
    "name": "ipython",
    "version": 3
   },
   "file_extension": ".py",
   "mimetype": "text/x-python",
   "name": "python",
   "nbconvert_exporter": "python",
   "pygments_lexer": "ipython3",
   "version": "3.12.5"
  }
 },
 "nbformat": 4,
 "nbformat_minor": 2
}
