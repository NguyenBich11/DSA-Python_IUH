{
 "cells": [
  {
   "cell_type": "code",
   "execution_count": 6,
   "metadata": {},
   "outputs": [],
   "source": [
    "class SinhVien:\n",
    "    def __init__(self, mssv, hoten, tuoi, gpa):\n",
    "        self.mssv = mssv\n",
    "        self.hoten = hoten\n",
    "        self.tuoi = tuoi\n",
    "        self.gpa = gpa\n",
    "        \n",
    "    def printIf(self):\n",
    "        return f\"MSSV: {self.mssv}, Họ tên: {self.hoten}, Tuổi: {self.tuoi}, Điểm: {self.gpa}\""
   ]
  },
  {
   "cell_type": "code",
   "execution_count": null,
   "metadata": {},
   "outputs": [],
   "source": [
    "class Management_Student:\n",
    "    def __init__(self):\n",
    "        self.ds = []\n",
    "        \n",
    "    def addStudent(self, n):\n",
    "        for i in range(n):\n",
    "            id = input(\"Mời bạn nhập MSSV: \")\n",
    "            fullName = input(\"Mời bạn nhập Họ tên: \")\n",
    "            age = input(\"Mời bạn nhập Tuổi: \")\n",
    "            mark = input(\"Mời bạn nhập Điểm: \")\n",
    "            student = SinhVien(id, fullName, age, mark)\n",
    "            \n",
    "            self.ds.append(student)\n",
    "        \n",
    "        \n",
    "    def show_Student(self):\n",
    "        if not self.ds:\n",
    "            print(\"Not have student info\")\n",
    "        for sv in self.ds:\n",
    "            print(sv.printIf())\n",
    "            \n",
    "    def bubble_sort(self):\n",
    "        n = len(self.ds)\n",
    "        \n",
    "        for i in range(n):\n",
    "            for j in range(0, n - 1 - i):\n",
    "                if self.ds[j].gpa > self.ds[j + 1].gpa:\n",
    "                    self.ds[j], self.ds[j + 1] = self.ds[j + 1], self.ds[j]\n",
    "                    \n",
    "        self.show_Student()\n",
    "        \n",
    "    def search_student(self, id):        \n",
    "        for sv in self.ds:\n",
    "            if id == sv.mssv:\n",
    "                print(sv.printIf())\n",
    "            else:\n",
    "                print(\"Not have student with this ID\")\n",
    "        \n",
    "    def insertion_sort(self):\n",
    "        n = len(self.ds)\n",
    "        \n",
    "        for i in range(n):\n",
    "            key = self.ds[i]\n",
    "            j = i - 1\n",
    "            \n",
    "            while j >= 0 and key.mssv < self.ds[j].mssv:\n",
    "                self.ds[j + 1] = self.ds[j]\n",
    "                j -= 1\n",
    "                \n",
    "            self.ds[j + 1] = key\n",
    "                    \n",
    "        self.show_Student()"
   ]
  },
  {
   "cell_type": "code",
   "execution_count": 8,
   "metadata": {},
   "outputs": [],
   "source": [
    "ql = Management_Student()"
   ]
  },
  {
   "cell_type": "code",
   "execution_count": 9,
   "metadata": {},
   "outputs": [],
   "source": [
    "def menu():\n",
    "    while True:\n",
    "        print(\"Mời bạn lựa chọn:\")\n",
    "        print(\"1. Thêm sinh viên\")\n",
    "        print(\"2. Sắp xếp sinh viên theo điiểm(Bubble sort)\")\n",
    "        print(\"3. Tìm kiếm sinh viên theo ID\")\n",
    "        print(\"4. Hiển thị sinh viên\")\n",
    "        \n",
    "        choice = input(\"Nhập lựa chọn đi: \")\n",
    "        if choice == \"1\":\n",
    "            n = int(input(\"Nhập số lượng sinh viên muốn thêm: \"))\n",
    "            ql.addStudent(n)\n",
    "        elif choice == \"2\":\n",
    "            print(\"------Sắp xếp sinh viên theo điểm tăng dần-----\")\n",
    "            ql.bubble_sort()\n",
    "        elif choice == '3':\n",
    "            id = input(\"Mời bạn nhập mã số sinh viên cần tìm: \")\n",
    "            ql.search_student(id)\n",
    "        elif choice == \"4\":\n",
    "            ql.show_Student()\n",
    "        else:  \n",
    "            break"
   ]
  },
  {
   "cell_type": "code",
   "execution_count": 10,
   "metadata": {},
   "outputs": [
    {
     "name": "stdout",
     "output_type": "stream",
     "text": [
      "Mời bạn lựa chọn:\n",
      "1. Thêm sinh viên\n",
      "2. Sắp xếp sinh viên theo điiểm(Bubble sort)\n",
      "3. Tìm kiếm sinh viên theo ID\n",
      "4. Hiển thị sinh viên\n",
      "Mời bạn lựa chọn:\n",
      "1. Thêm sinh viên\n",
      "2. Sắp xếp sinh viên theo điiểm(Bubble sort)\n",
      "3. Tìm kiếm sinh viên theo ID\n",
      "4. Hiển thị sinh viên\n",
      "MSSV: 43, Họ tên: bích, Tuổi: 21, Điểm: 10\n",
      "MSSV: 54, Họ tên: tuyền, Tuổi: 44, Điểm: 7\n",
      "MSSV: 21, Họ tên: sơn, Tuổi: 47, Điểm: 9\n",
      "Mời bạn lựa chọn:\n",
      "1. Thêm sinh viên\n",
      "2. Sắp xếp sinh viên theo điiểm(Bubble sort)\n",
      "3. Tìm kiếm sinh viên theo ID\n",
      "4. Hiển thị sinh viên\n",
      "MSSV: 43, Họ tên: bích, Tuổi: 21, Điểm: 10\n",
      "Not have student with this ID\n",
      "Not have student with this ID\n",
      "Mời bạn lựa chọn:\n",
      "1. Thêm sinh viên\n",
      "2. Sắp xếp sinh viên theo điiểm(Bubble sort)\n",
      "3. Tìm kiếm sinh viên theo ID\n",
      "4. Hiển thị sinh viên\n",
      "Mời bạn lựa chọn:\n",
      "1. Thêm sinh viên\n",
      "2. Sắp xếp sinh viên theo điiểm(Bubble sort)\n",
      "3. Tìm kiếm sinh viên theo ID\n",
      "4. Hiển thị sinh viên\n"
     ]
    }
   ],
   "source": [
    "menu()"
   ]
  }
 ],
 "metadata": {
  "kernelspec": {
   "display_name": "my_env",
   "language": "python",
   "name": "python3"
  },
  "language_info": {
   "codemirror_mode": {
    "name": "ipython",
    "version": 3
   },
   "file_extension": ".py",
   "mimetype": "text/x-python",
   "name": "python",
   "nbconvert_exporter": "python",
   "pygments_lexer": "ipython3",
   "version": "3.12.5"
  }
 },
 "nbformat": 4,
 "nbformat_minor": 2
}
