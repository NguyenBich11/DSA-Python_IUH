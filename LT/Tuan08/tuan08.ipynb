{
 "cells": [
  {
   "cell_type": "code",
   "execution_count": 1,
   "metadata": {},
   "outputs": [],
   "source": [
    "class Node:\n",
    "    def __init__(self, number):\n",
    "        self.number = number\n",
    "        self.next = None"
   ]
  },
  {
   "cell_type": "code",
   "execution_count": 25,
   "metadata": {},
   "outputs": [],
   "source": [
    "\n",
    "class LinkedList:\n",
    "    def __init__(self):\n",
    "        self.head = None\n",
    "        \n",
    "    def is_empty(self):\n",
    "        return self.head is None\n",
    "    \n",
    "    def append_node(self, number):\n",
    "        new_node = Node(number)\n",
    "\n",
    "        if self.is_empty():\n",
    "            self.head = new_node\n",
    "        else:\n",
    "            c = self.head\n",
    "            while c.next:\n",
    "                c = c.next\n",
    "            c.next = new_node\n",
    "            \n",
    "    def after_node(self, num):\n",
    "        new_node = Node(num)\n",
    "        pre_node.next = new_node.next\n",
    "        pre_node.next = new_node\n",
    "        \n",
    "    def pre_node(self, num):\n",
    "        new_node = Node(num)\n",
    "        new_node.next = self.head\n",
    "        self.head = new_node\n",
    "            \n",
    "    def show(self):\n",
    "        arr = []\n",
    "        \n",
    "        c = self.head\n",
    "        \n",
    "        while c:\n",
    "            arr.append(c.number)\n",
    "            c = c.next\n",
    "            \n",
    "        print(\"->\".join(map(str, arr)))"
   ]
  },
  {
   "cell_type": "code",
   "execution_count": 19,
   "metadata": {},
   "outputs": [],
   "source": [
    "ds = LinkedList()\n",
    "ds.append_node(3)\n",
    "ds.append_node(8)\n",
    "ds.append_node(6)"
   ]
  },
  {
   "cell_type": "code",
   "execution_count": 20,
   "metadata": {},
   "outputs": [
    {
     "name": "stdout",
     "output_type": "stream",
     "text": [
      "3->8->6\n"
     ]
    }
   ],
   "source": [
    "ds.show()"
   ]
  },
  {
   "cell_type": "code",
   "execution_count": 21,
   "metadata": {},
   "outputs": [],
   "source": [
    "ds.pre_node(2)"
   ]
  },
  {
   "cell_type": "code",
   "execution_count": 22,
   "metadata": {},
   "outputs": [
    {
     "name": "stdout",
     "output_type": "stream",
     "text": [
      "3->8->6\n"
     ]
    }
   ],
   "source": [
    "ds.show()"
   ]
  },
  {
   "cell_type": "code",
   "execution_count": null,
   "metadata": {},
   "outputs": [],
   "source": []
  }
 ],
 "metadata": {
  "kernelspec": {
   "display_name": "my_env",
   "language": "python",
   "name": "python3"
  },
  "language_info": {
   "codemirror_mode": {
    "name": "ipython",
    "version": 3
   },
   "file_extension": ".py",
   "mimetype": "text/x-python",
   "name": "python",
   "nbconvert_exporter": "python",
   "pygments_lexer": "ipython3",
   "version": "3.12.5"
  }
 },
 "nbformat": 4,
 "nbformat_minor": 2
}
