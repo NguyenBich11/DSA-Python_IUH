{
 "cells": [
  {
   "cell_type": "code",
   "execution_count": 1,
   "metadata": {},
   "outputs": [],
   "source": [
    "import time\n",
    "\n",
    "def merge_sort(arr):\n",
    "    if len(arr) <= 1:\n",
    "        return arr\n",
    "    mid = len(arr) // 2\n",
    "    left = merge_sort(arr[:mid])\n",
    "    right = merge_sort(arr[mid:])\n",
    "    return merge(left, right)\n",
    "\n",
    "def merge(left, right):\n",
    "    result = []\n",
    "    i = j = 0\n",
    "    while i < len(left) and j < len(right):\n",
    "        if left[i] < right[j]:\n",
    "            result.append(left[i])\n",
    "            i += 1\n",
    "        else:\n",
    "            result.append(right[j])\n",
    "            j += 1\n",
    "    result.extend(left[i:])\n",
    "    result.extend(right[j:])\n",
    "    return result\n",
    "\n",
    "def quick_sort(arr):\n",
    "    if len(arr) <= 1:\n",
    "        return arr\n",
    "    pivot = arr[len(arr) // 2]\n",
    "    left = [x for x in arr if x < pivot]\n",
    "    middle = [x for x in arr if x == pivot]\n",
    "    right = [x for x in arr if x > pivot]\n",
    "    return quick_sort(left) + middle + quick_sort(right)\n",
    "\n",
    "def test_sorting():\n",
    "    arr = [-1, 5, 7, 8, 3]\n",
    "    print(\"Original array:\", arr)\n",
    "    \n",
    "    start_time = time.time()\n",
    "    sorted_arr_merge = merge_sort(arr)\n",
    "    merge_time = time.time() - start_time\n",
    "    print(\"Merge Sort Output:\", sorted_arr_merge, \"Time:\", merge_time, \"seconds\")\n",
    "    \n",
    "    start_time = time.time()\n",
    "    sorted_arr_quick = quick_sort(arr)\n",
    "    quick_time = time.time() - start_time\n",
    "    print(\"Quick Sort Output:\", sorted_arr_quick, \"Time:\", quick_time, \"seconds\")"
   ]
  },
  {
   "cell_type": "code",
   "execution_count": 2,
   "metadata": {},
   "outputs": [
    {
     "name": "stdout",
     "output_type": "stream",
     "text": [
      "Original array: [-1, 5, 7, 8, 3]\n",
      "Merge Sort Output: [-1, 3, 5, 7, 8] Time: 0.0 seconds\n",
      "Quick Sort Output: [-1, 3, 5, 7, 8] Time: 0.0 seconds\n"
     ]
    }
   ],
   "source": [
    "test_sorting()"
   ]
  }
 ],
 "metadata": {
  "kernelspec": {
   "display_name": "my_env",
   "language": "python",
   "name": "python3"
  },
  "language_info": {
   "codemirror_mode": {
    "name": "ipython",
    "version": 3
   },
   "file_extension": ".py",
   "mimetype": "text/x-python",
   "name": "python",
   "nbconvert_exporter": "python",
   "pygments_lexer": "ipython3",
   "version": "3.12.5"
  }
 },
 "nbformat": 4,
 "nbformat_minor": 2
}
