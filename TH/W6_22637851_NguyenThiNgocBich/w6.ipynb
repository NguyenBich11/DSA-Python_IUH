{
 "cells": [
  {
   "cell_type": "code",
   "execution_count": 2,
   "metadata": {},
   "outputs": [],
   "source": [
    "class Employee:\n",
    "    def __init__(self, emp_id, name, age, email, salary):\n",
    "        self.emp_id = emp_id\n",
    "        self.name = name\n",
    "        self.age = age\n",
    "        self.email = email\n",
    "        self.salary = salary\n",
    "    \n",
    "    def __str__(self):\n",
    "        return f\"ID: {self.emp_id}, Name: {self.name}, Age: {self.age}, Email: {self.email}, Salary: {self.salary}\""
   ]
  },
  {
   "cell_type": "code",
   "execution_count": 3,
   "metadata": {},
   "outputs": [],
   "source": [
    "class Developer(Employee):\n",
    "    def __init__(self, emp_id, name, age, email, salary, language, experience, level):\n",
    "        super().__init__(emp_id, name, age, email, salary)\n",
    "        self.language = language\n",
    "        self.experience = experience\n",
    "        self.level = level\n",
    "    \n",
    "    def __str__(self):\n",
    "        return super().__str__() + f\", Language: {self.language}, Experience: {self.experience} years, Level: {self.level}\""
   ]
  },
  {
   "cell_type": "code",
   "execution_count": 4,
   "metadata": {},
   "outputs": [],
   "source": [
    "class ProjectManager(Employee):\n",
    "    def __init__(self, emp_id, name, age, email, salary, projects_completed, expertise, certifications):\n",
    "        super().__init__(emp_id, name, age, email, salary)\n",
    "        self.projects_completed = projects_completed\n",
    "        self.expertise = expertise\n",
    "        self.certifications = certifications\n",
    "    \n",
    "    def __str__(self):\n",
    "        return super().__str__() + f\", Projects Completed: {self.projects_completed}, Expertise: {self.expertise}, Certifications: {self.certifications}\""
   ]
  },
  {
   "cell_type": "code",
   "execution_count": 5,
   "metadata": {},
   "outputs": [],
   "source": [
    "class Tester(Employee):\n",
    "    def __init__(self, emp_id, name, age, email, salary, test_type, tools):\n",
    "        super().__init__(emp_id, name, age, email, salary)\n",
    "        self.test_type = test_type\n",
    "        self.tools = tools\n",
    "    \n",
    "    def __str__(self):\n",
    "        return super().__str__() + f\", Test Type: {self.test_type}, Tools: {self.tools}\"\n"
   ]
  },
  {
   "cell_type": "code",
   "execution_count": 6,
   "metadata": {},
   "outputs": [],
   "source": [
    "class Stack:\n",
    "    def __init__(self):\n",
    "        self.stack = []\n",
    "    \n",
    "    def push(self, item):\n",
    "        self.stack.append(item)\n",
    "    \n",
    "    def pop(self):\n",
    "        return self.stack.pop() if not self.is_empty() else None\n",
    "    \n",
    "    def is_empty(self):\n",
    "        return len(self.stack) == 0\n",
    "    \n",
    "    def show(self):\n",
    "        for item in reversed(self.stack):\n",
    "            print(item)\n"
   ]
  },
  {
   "cell_type": "code",
   "execution_count": 8,
   "metadata": {},
   "outputs": [],
   "source": [
    "import pickle\n",
    "class EmployeeManagement:\n",
    "    def __init__(self):\n",
    "        self.employees = []\n",
    "        self.undo_stack = Stack()\n",
    "    \n",
    "    def add_employee(self, employee):\n",
    "        self.employees.append(employee)\n",
    "        self.undo_stack.push((\"add\", employee))\n",
    "    \n",
    "    def remove_employee(self, emp_id):\n",
    "        for emp in self.employees:\n",
    "            if emp.emp_id == emp_id:\n",
    "                self.employees.remove(emp)\n",
    "                self.undo_stack.push((\"remove\", emp))\n",
    "                return True\n",
    "        return False\n",
    "    \n",
    "    def display_employees(self):\n",
    "        for emp in self.employees:\n",
    "            print(emp)\n",
    "    \n",
    "    def find_employee(self, emp_id):\n",
    "        for emp in self.employees:\n",
    "            if emp.emp_id == emp_id:\n",
    "                return emp\n",
    "        return None\n",
    "    \n",
    "    def update_employee(self, emp_id, **kwargs):\n",
    "        emp = self.find_employee(emp_id)\n",
    "        if emp:\n",
    "            self.undo_stack.push((\"update\", emp, kwargs))\n",
    "            for key, value in kwargs.items():\n",
    "                setattr(emp, key, value)\n",
    "            return True\n",
    "        return False\n",
    "    \n",
    "    def most_experienced_employee(self):\n",
    "        return max(self.employees, key=lambda e: e.experience, default=None)\n",
    "    \n",
    "    def best_project_manager(self):\n",
    "        return max((e for e in self.employees if isinstance(e, ProjectManager)), key=lambda e: e.projects_completed, default=None)\n",
    "    \n",
    "    def bubble_sort_by_salary(self):\n",
    "        n = len(self.employees)\n",
    "        for i in range(n - 1):\n",
    "            for j in range(n - 1 - i):\n",
    "                if self.employees[j].salary > self.employees[j + 1].salary:\n",
    "                    self.employees[j], self.employees[j + 1] = self.employees[j + 1], self.employees[j]\n",
    "    \n",
    "    def undo(self):\n",
    "        if self.undo_stack.is_empty():\n",
    "            print(\"No actions to undo!\")\n",
    "            return\n",
    "        \n",
    "        action = self.undo_stack.pop()\n",
    "        if action[0] == \"add\":\n",
    "            self.employees.remove(action[1])\n",
    "        elif action[0] == \"remove\":\n",
    "            self.employees.append(action[1])\n",
    "        elif action[0] == \"update\":\n",
    "            emp, prev_data = action[1], action[2]\n",
    "            for key, value in prev_data.items():\n",
    "                setattr(emp, key, value)\n",
    "    \n",
    "    def save_to_file(self, filename=\"employees.pkl\"):\n",
    "        with open(filename, \"wb\") as file:\n",
    "            pickle.dump(self.employees, file)\n",
    "    \n",
    "    def load_from_file(self, filename=\"employees.pkl\"):\n",
    "        try:\n",
    "            with open(filename, \"rb\") as file:\n",
    "                self.employees = pickle.load(file)\n",
    "        except FileNotFoundError:\n",
    "            self.employees = []"
   ]
  },
  {
   "cell_type": "code",
   "execution_count": 9,
   "metadata": {},
   "outputs": [
    {
     "name": "stdout",
     "output_type": "stream",
     "text": [
      "ID: 1, Name: John Doe, Age: 25, Email: john@example.com, Salary: 5000, Language: Python, Experience: 3 years, Level: Senior\n",
      "ID: 2, Name: Alice Smith, Age: 35, Email: alice@example.com, Salary: 7000, Projects Completed: 5, Expertise: IT, Certifications: PMP\n",
      "ID: 3, Name: Bob Brown, Age: 28, Email: bob@example.com, Salary: 4000, Test Type: Automation, Tools: Selenium\n",
      "ID: 1, Name: John Doe, Age: 25, Email: john@example.com, Salary: 5000, Language: Python, Experience: 3 years, Level: Senior\n",
      "ID: 2, Name: Alice Smith, Age: 35, Email: alice@example.com, Salary: 7000, Projects Completed: 5, Expertise: IT, Certifications: PMP\n",
      "ID: 3, Name: Bob Brown, Age: 28, Email: bob@example.com, Salary: 4000, Test Type: Automation, Tools: Selenium\n"
     ]
    }
   ],
   "source": [
    "manager = EmployeeManagement()\n",
    "dev1 = Developer(1, \"John Doe\", 25, \"john@example.com\", 5000, \"Python\", 3, \"Senior\")\n",
    "pm1 = ProjectManager(2, \"Alice Smith\", 35, \"alice@example.com\", 7000, 5, \"IT\", \"PMP\")\n",
    "tester1 = Tester(3, \"Bob Brown\", 28, \"bob@example.com\", 4000, \"Automation\", \"Selenium\")\n",
    "\n",
    "manager.add_employee(dev1)\n",
    "manager.add_employee(pm1)\n",
    "manager.add_employee(tester1)\n",
    "\n",
    "manager.display_employees()\n",
    "manager.save_to_file()\n",
    "manager.load_from_file()\n",
    "manager.display_employees()"
   ]
  }
 ],
 "metadata": {
  "kernelspec": {
   "display_name": "my_env",
   "language": "python",
   "name": "python3"
  },
  "language_info": {
   "codemirror_mode": {
    "name": "ipython",
    "version": 3
   },
   "file_extension": ".py",
   "mimetype": "text/x-python",
   "name": "python",
   "nbconvert_exporter": "python",
   "pygments_lexer": "ipython3",
   "version": "3.12.5"
  }
 },
 "nbformat": 4,
 "nbformat_minor": 2
}
