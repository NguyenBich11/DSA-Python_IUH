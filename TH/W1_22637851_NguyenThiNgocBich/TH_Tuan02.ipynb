{
 "cells": [
  {
   "cell_type": "code",
   "execution_count": 7,
   "metadata": {},
   "outputs": [
    {
     "name": "stdout",
     "output_type": "stream",
     "text": [
      "Kết quả là:  2.0\n"
     ]
    }
   ],
   "source": [
    "# Bài 1: Viết chương trình nhập vào 3 số tính trung bình\n",
    "number_1 = int(input(\"Nhập vào số đầu tiên: \"))\n",
    "number_2 = int(input(\"Nhập vào số thứ 2: \"))\n",
    "number_3 = int(input(\"Nhập vào số thứ 3: \"))\n",
    "\n",
    "def tinhTB(nb1, nb2, nb3):\n",
    "    return (nb1 + nb2 + nb3) / 3\n",
    "\n",
    "print(f\"Kết quả là: \" , tinhTB(number_1, number_2, number_3))\n"
   ]
  },
  {
   "cell_type": "code",
   "execution_count": 44,
   "metadata": {},
   "outputs": [
    {
     "name": "stdout",
     "output_type": "stream",
     "text": [
      "[2, 3, 5]\n"
     ]
    }
   ],
   "source": [
    "# Bài 2: Tìm số nguyên tố từ danh sách:\n",
    "# a. Nhập danh sách từ người dùng\n",
    "# b. Viết hàm kiểm tra số nguyên tố\n",
    "# c. Xử lý danh sách\n",
    "\n",
    "n = int(input(\"Nhập vào số phần tử: \"))\n",
    "ds_new = []\n",
    "\n",
    "for i in range(n):\n",
    "    number = int(input(\"Nhập vào phần tử thứ i: \"))\n",
    "    ds_new.append(number)\n",
    "\n",
    "ds_snt = [i for i in ds_new if (i>1 and i%2!=0 or i ==2)]\n",
    "    \n",
    "print(ds_snt)"
   ]
  },
  {
   "cell_type": "code",
   "execution_count": 31,
   "metadata": {},
   "outputs": [
    {
     "data": {
      "text/plain": [
       "[1, 9, 4]"
      ]
     },
     "execution_count": 31,
     "metadata": {},
     "output_type": "execute_result"
    }
   ],
   "source": [
    "# Bài 3: Cho danh sách my_lst = [1,3,5,7,8,9,2,4].Viết chương trình in ra các số chính phương\n",
    "import math\n",
    "my_lst = [1,3,5,7,8,9,2,4]\n",
    "\n",
    "lst_scp = [i for i in my_lst if math.sqrt(i)*math.sqrt(i) == i]\n",
    "\n",
    "lst_scp"
   ]
  },
  {
   "cell_type": "code",
   "execution_count": null,
   "metadata": {},
   "outputs": [
    {
     "name": "stdout",
     "output_type": "stream",
     "text": [
      "4632\n",
      "\n"
     ]
    }
   ],
   "source": [
    "# Bài 4: Đảo ngược chuỗi\n",
    "str=input(\"Nhập chuỗi: \")\n",
    "print(str)\n",
    "str = str[::-1]\n",
    "\n",
    "print(str)"
   ]
  },
  {
   "cell_type": "code",
   "execution_count": 25,
   "metadata": {},
   "outputs": [
    {
     "name": "stdout",
     "output_type": "stream",
     "text": [
      "[1, 2, 7, 6, 3]\n",
      "1\n",
      "2\n"
     ]
    }
   ],
   "source": [
    "# Bài 5: Viết chương trình tìm 2 số bé nhất trong danh sách\n",
    "n = int(input(\"Nhập số phần tử: \"))\n",
    "ds = []\n",
    "\n",
    "for i in range(n):\n",
    "    num = int(input(\"Nhập phân tử: \"))\n",
    "    ds.append(num)\n",
    "    \n",
    "print(ds)\n",
    "\n",
    "ds1 = sorted(ds)\n",
    "print(ds1[0])\n",
    "print(ds1[1])"
   ]
  },
  {
   "cell_type": "code",
   "execution_count": 42,
   "metadata": {},
   "outputs": [
    {
     "name": "stdout",
     "output_type": "stream",
     "text": [
      "[1, 2, 3, 5, 5]\n",
      "số lượng số lớn nhất 0\n",
      "Vị trí số lớn nhất:  []\n"
     ]
    }
   ],
   "source": [
    "# Bài 6: Viết chương trình tìm vị trí số lớn nhất trong danh sách và kèm theo số lượng\n",
    "n = int(input(\"Nhập số phần tử: \"))\n",
    "ds = []\n",
    "\n",
    "for i in range(n):\n",
    "    num = int(input(\"Nhập phân tử: \"))\n",
    "    ds.append(num)\n",
    "\n",
    "print(ds)\n",
    "\n",
    "num_max = max(ds)\n",
    "dem = 0\n",
    "a=[]\n",
    "for i in range(len(ds)):\n",
    "    if(num_max == i):\n",
    "        dem +=1\n",
    "        a.append(i)\n",
    "\n",
    "print(\"số lượng số lớn nhất\", dem)\n",
    "print(\"Vị trí số lớn nhất: \", a)"
   ]
  },
  {
   "cell_type": "code",
   "execution_count": 46,
   "metadata": {},
   "outputs": [
    {
     "name": "stdout",
     "output_type": "stream",
     "text": [
      "Hello! Welcome to demofile.txt\n",
      "This file is for testing purposes.\n",
      "Good Luck!\n"
     ]
    }
   ],
   "source": [
    "# Bài 7: Viết chương trình đọc file txt và hiển thị nội dung trong file\n",
    "file = open(\"T:/bai7.txt\")\n",
    "\n",
    "print(file.read())"
   ]
  },
  {
   "cell_type": "code",
   "execution_count": 16,
   "metadata": {},
   "outputs": [
    {
     "name": "stdout",
     "output_type": "stream",
     "text": [
      "Họ tên: bích, tuổi: 18, điểm: 9.0\n",
      "Họ tên: ngọc, tuổi: 8, điểm: 9.0\n",
      "Họ tên: bích, tuổi: 15, điểm: 6.0\n",
      "Họ tên: nguyễn, tuổi: 16, điểm: 7.0\n",
      "\n"
     ]
    }
   ],
   "source": [
    "# Bài 8: Viết chương trình cho phép người dùng nhập thông tin sinh viên(họ tên, tuổi, đệm) và ghi vào file text. Mỗi sinh viên ghi trên 1 dòng\n",
    "n_sc = int(input(\"Nhập số sinh viên cần thêm: \"))\n",
    "lst_sv = []\n",
    "\n",
    "for i in range(n_sc):\n",
    "    hoTen = input(\"Nhập vào họ tên: \")\n",
    "    tuoi = int(input(\"Nhập vào tuôi: \"))\n",
    "    diem = float(input(\"Nhập vào điểm trung bình: \"))\n",
    "\n",
    "    sv = {}\n",
    "    sv[\"hoten\"] = hoTen\n",
    "    sv[\"tuoi\"] = tuoi\n",
    "    sv[\"diem\"] = diem\n",
    "    lst_sv.append(sv)\n",
    "\n",
    "path = \"bai8.txt\"\n",
    "with open(path, \"a\", encoding=\"utf-8\") as convert_file:\n",
    "    for item in lst_sv:\n",
    "        convert_file.write(f\"Họ tên: {item['hoten']}, tuổi: {item['tuoi']}, điểm: {item['diem']}\\n\")\n",
    "    \n",
    "file_read = open(path, \"r\", encoding=\"utf-8\")\n",
    "print(file_read.read())"
   ]
  },
  {
   "cell_type": "code",
   "execution_count": 25,
   "metadata": {},
   "outputs": [
    {
     "name": "stdout",
     "output_type": "stream",
     "text": [
      "Số lần xuất hiện của 2:  3\n",
      "[1, 2, 3, 2, 4, 2, 5, 6]\n",
      "Phần tử đầu tiên của tuple:  1\n",
      "Phần tử cuối cùng của tuple:  5\n"
     ]
    }
   ],
   "source": [
    "# 9. Cho tuple sau: numbers = (1, 2, 3, 2, 4, 2, 5). Viết chương trình: \n",
    "# • Đếm số lần xuất hiện của số 2 \n",
    "numbers = (1, 2, 3, 2, 4, 2, 5)\n",
    "countNumber = numbers.count(2)\n",
    "print(\"Số lần xuất hiện của 2: \", countNumber)\n",
    "\n",
    "# • Chuyển tuple thành list và thêm số 6 vào cuối \n",
    "numberNew = list(numbers)\n",
    "numberNew.append(6)\n",
    "print(numberNew)\n",
    "\n",
    "# • In ra phần tử đầu tiên và cuối cùng của tuple\n",
    "print(\"Phần tử đầu tiên của tuple: \", numbers[0])\n",
    "print(\"Phần tử cuối cùng của tuple: \", numbers[-1])"
   ]
  },
  {
   "cell_type": "code",
   "execution_count": 53,
   "metadata": {},
   "outputs": [
    {
     "name": "stdout",
     "output_type": "stream",
     "text": [
      "Thủ đô bạn muốn tìm kiếm là:  hanoi\n",
      "Bạn đã xóa quốc gia:  vietnam\n",
      "[{'Quốc gia': 'china', 'Thủ đô': 'shanghai'}]\n"
     ]
    }
   ],
   "source": [
    "# 10. Tạo dictionary lưu thông tin về các quốc gia và thủ đô. Viết chương trình cho phép: \n",
    "# • Thêm cặp quốc gia - thủ đô mới \n",
    "n = int(input(\"Nhập số quốc gia và thủ đô: \"))\n",
    "arr_country = []\n",
    "\n",
    "for i in range(n):\n",
    "    quocGia = input(\"Nhập quốc gia: \")\n",
    "    thuDo = input(\"Nhập thủ đô: \")\n",
    "\n",
    "    dict_country = {}\n",
    "    dict_country[\"Quốc gia\"] = quocGia\n",
    "    dict_country[\"Thủ đô\"] = thuDo\n",
    "\n",
    "    arr_country.append(dict_country)\n",
    "    \n",
    "# • Tìm kiếm thủ đô khi nhập tên quốc gia  \n",
    "input_country = input(\"Nhập quốc gia muốn tìm kiếm: \")\n",
    "def findCountry(input_country):\n",
    "    for qg in arr_country:\n",
    "        if(qg['Quốc gia'] == input_country):\n",
    "            return qg['Thủ đô']\n",
    "\n",
    "print(\"Thủ đô bạn muốn tìm kiếm là: \", str(findCountry(input_country)))\n",
    "\n",
    "# • Xóa một quốc gia khỏi dictionary \n",
    "input_country_delete = input(\"Nhập tên quốc gia bạn muốn xóa:\")\n",
    "def deleteCountry(input_country_delete):\n",
    "    for i in range(len(arr_country)):\n",
    "        if(arr_country[i]['Quốc gia'] == input_country_delete):\n",
    "            arr_country.pop(i)\n",
    "            return True\n",
    "    return False\n",
    "\n",
    "if(deleteCountry(input_country_delete) == False): \n",
    "    print(\"Xóa quốc gia không thành công\")\n",
    "else:\n",
    "    print(\"Bạn đã xóa quốc gia: \", input_country_delete)\n",
    "    \n",
    "# • Hiển thị tất cả quốc gia và thủ đô\n",
    "print(arr_country)"
   ]
  },
  {
   "cell_type": "code",
   "execution_count": 61,
   "metadata": {},
   "outputs": [
    {
     "name": "stdout",
     "output_type": "stream",
     "text": [
      "Vui lòng nhập số nguyên dương!\n",
      "Vui lòng nhập số!\n",
      "Bạn đã nhập số nguyên dương: 0\n"
     ]
    },
    {
     "data": {
      "text/plain": [
       "0"
      ]
     },
     "execution_count": 61,
     "metadata": {},
     "output_type": "execute_result"
    }
   ],
   "source": [
    "# 11. Viết chương trình yêu cầu người dùng nhập số nguyên dương n và xử lý các trường hợp ngoại lệ: \n",
    "# • Nếu người dùng nhập chữ thay vì số \n",
    "# • Nếu người dùng nhập số âm \n",
    "# • In ra thông báo lỗi phù hợp và yêu cầu nhập lại  \n",
    "# Ex1: \n",
    "# - Input: abc \n",
    "# - Output: Vui lòng nhập số! \n",
    "# Ex2: \n",
    "# - Input: -5 \n",
    "# - Output: Vui lòng nhập số nguyên dương!\n",
    "def input_positive_integer():\n",
    "    while True:  # Vòng lặp để yêu cầu người dùng nhập lại nếu có lỗi\n",
    "        try:\n",
    "            n = int(input(\"Vui lòng nhập số nguyên dương: \"))\n",
    "            if n < 0:\n",
    "                print(\"Vui lòng nhập số nguyên dương!\")  # Thông báo khi nhập số âm\n",
    "            else:\n",
    "                print(f\"Bạn đã nhập số nguyên dương: {n}\")\n",
    "                return n  # Trả về số đã nhập khi hợp lệ\n",
    "        except ValueError:  # Xử lý trường hợp nhập chữ hoặc ký tự không phải số\n",
    "            print(\"Vui lòng nhập số!\")\n",
    "            \n",
    "input_positive_integer()"
   ]
  }
 ],
 "metadata": {
  "kernelspec": {
   "display_name": "my_env",
   "language": "python",
   "name": "python3"
  },
  "language_info": {
   "codemirror_mode": {
    "name": "ipython",
    "version": 3
   },
   "file_extension": ".py",
   "mimetype": "text/x-python",
   "name": "python",
   "nbconvert_exporter": "python",
   "pygments_lexer": "ipython3",
   "version": "3.12.5"
  },
  "orig_nbformat": 2
 },
 "nbformat": 4,
 "nbformat_minor": 2
}
