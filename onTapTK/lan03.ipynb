{
 "cells": [
  {
   "cell_type": "code",
   "execution_count": null,
   "id": "e07f8d50",
   "metadata": {},
   "outputs": [],
   "source": [
    "class Student:\n",
    "    def __init__(self, Masv, Hoten, Malop, DiemTB):\n",
    "        self.Masv = Masv\n",
    "        self.Hoten = Hoten\n",
    "        self.Malop = Malop\n",
    "        self.DiemTB = DiemTB\n",
    "        \n",
    "    def __str__(self):\n",
    "        return f\"Masv: {self.Masv}, Hoten: {self.Hoten}, Malop: {self.Malop}, DiemTB: {self.DiemTB}\""
   ]
  }
 ],
 "metadata": {
  "language_info": {
   "name": "python"
  }
 },
 "nbformat": 4,
 "nbformat_minor": 5
}
