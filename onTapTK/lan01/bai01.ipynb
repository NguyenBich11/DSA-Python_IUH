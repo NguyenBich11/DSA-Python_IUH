{
 "cells": [
  {
   "cell_type": "code",
   "execution_count": 143,
   "id": "423a7d7f",
   "metadata": {},
   "outputs": [],
   "source": [
    "class Student:\n",
    "    def __init__(self, Masv, Hoten, Malop=None, DiemTB=None):\n",
    "        self.Masv = Masv\n",
    "        self.Hoten = Hoten\n",
    "        self.Malop = Malop\n",
    "        self.DiemTB = DiemTB\n",
    "        \n",
    "    def __str__(self):\n",
    "        return f\"Masv : {self.Masv}, Hoten: {self.Hoten}, MaLop: {self.Malop}, DiemTB: {self.DiemTB}\""
   ]
  },
  {
   "cell_type": "code",
   "execution_count": null,
   "id": "8bb6bbcf",
   "metadata": {},
   "outputs": [],
   "source": [
    "class Tree:\n",
    "    def __init__(self, data):\n",
    "        self.data = data\n",
    "        self.left = None\n",
    "        self.right = None\n",
    "        \n",
    "    # in ra man hinh LNR theo masv\n",
    "    def LNR(self):\n",
    "        if self.left:\n",
    "            self.left.LNR()\n",
    "        \n",
    "        print(self.data)\n",
    "        \n",
    "        if self.right:\n",
    "            self.right.LNR() \n",
    "            \n",
    "    # đếm số nút lá của cây\n",
    "    def countLeaf(self):\n",
    "        if self.left is None and self.right is None:\n",
    "            return 1\n",
    "        \n",
    "        dem = 0\n",
    "        if self.left:\n",
    "            dem += self.left.countLeaf()\n",
    "            \n",
    "        if self.right:\n",
    "            dem += self.right.countLeaf()\n",
    "        \n",
    "        return dem\n",
    "    \n",
    "    # tính chiều cao của cây\n",
    "    def height_tree(self):\n",
    "        height_left = 0\n",
    "        height_right = 0\n",
    "        \n",
    "        if self.left:\n",
    "            height_left = self.left.height_tree()\n",
    "            \n",
    "        if self.right:\n",
    "            height_right = self.right.height_tree()\n",
    "            \n",
    "        return 1 + max(height_left, height_right)\n",
    "    \n",
    "    # chèn 1 node vào cây\n",
    "    def add_node(self, student):\n",
    "        if student.Masv == self.data.Masv:\n",
    "            return False\n",
    "        \n",
    "        if student.Masv < self.data.Masv:\n",
    "            if self.left is None:\n",
    "                self.left = Tree(student)\n",
    "                return True\n",
    "            else:\n",
    "                self.left.add_node(student)\n",
    "        elif student.Masv > self.data.Masv:\n",
    "            if self.right is None:\n",
    "                self.right = Tree(student)\n",
    "                return True\n",
    "            else:\n",
    "                self.right.add_node(student)\n",
    "                \n",
    "    # Tìm kiếm một Node có giá trị MASV được nhập vào từ bàn phím.\n",
    "    def search_node(self, masv):\n",
    "        if self.data.Masv == masv:\n",
    "            return self\n",
    "        \n",
    "        if masv < self.data.Masv and self.left:\n",
    "            return self.left.search_node(masv)\n",
    "        \n",
    "        if masv > self.data.Masv and self.right:\n",
    "            return self.right.search_node(masv)\n",
    "        \n",
    "    # Xóa một Node có MASV được nhập vào từ bàn phím.\n",
    "    def delete_node(self, masv):\n",
    "        if self.data is None: return None\n",
    "        \n",
    "        if masv < self.data:\n",
    "            self.left.delete_node(masv)\n",
    "        elif masv > self.data:\n",
    "            self.right.delete_node(masv)\n",
    "        else:\n",
    "            # node là nút lá return về nonen tức là xóa nó ra khỏi tree\n",
    "            if self.left is None and self.right is None:\n",
    "                return None\n",
    "            \n",
    "            # nút có 1 con -> nếu có 1 con thì đưa con đó lên thay thế vị trí cần xóa\n",
    "            if self.left is None:\n",
    "                return self.right\n",
    "            if self.right is None:\n",
    "                return self.left\n",
    "            \n",
    "            # nút có 2 con\n",
    "            temp = self.right\n",
    "            while self.left:\n",
    "                temp = self.left\n",
    "                \n",
    "            self.data = temp.data\n",
    "            \n",
    "            self.right = self.right.delete_node(temp.data.Masv)\n",
    "            \n",
    "            \n",
    "        return self"
   ]
  },
  {
   "cell_type": "code",
   "execution_count": 145,
   "id": "9f434413",
   "metadata": {},
   "outputs": [],
   "source": [
    "class StudentManagement:\n",
    "    def __init__(self):\n",
    "        self.ds = None\n",
    "        \n",
    "    def add_student(self):\n",
    "        print(\"Thêm sinh viên: \")\n",
    "        masv = input(\"Nhập mã sinh viên: \")\n",
    "        tenSV = input(\"Nhập tên sinh viên: \")\n",
    "        \n",
    "        sv = Student(masv, tenSV)\n",
    "        \n",
    "        if self.ds is None:\n",
    "            self.ds = Tree(sv)\n",
    "            print(\"Thêm sinh viên thành công\")\n",
    "        else:\n",
    "            if not self.ds.add_node(sv):\n",
    "                print(\"Trùng mã số sinh viên\")\n",
    "                \n",
    "    def show_student(self):\n",
    "        self.ds.LNR()\n",
    "        \n",
    "    def height_student(self):\n",
    "        result_height = self.ds.height_tree()\n",
    "        \n",
    "        if result_height == 0:\n",
    "            print(\"Giá trị của cây là 0\")\n",
    "        \n",
    "        print(f\"Giá trị của cây là: {result_height}\")\n",
    "        \n",
    "    def countLeaf_student(self):\n",
    "        count_leaf = self.ds.countLeaf()\n",
    "        print(f\"Nút lá của cây là: {count_leaf}\")\n",
    "        \n",
    "    def search_student(self):\n",
    "        msv_find = input(\"Nhập mã số sinh viên cần tìm: \")\n",
    "        \n",
    "        result = self.ds.search_node(msv_find)\n",
    "        if result:\n",
    "            print(f\"tìm thấy sinh viên với mã: {msv_find}\")\n",
    "            print(result.data)\n",
    "        else:\n",
    "            print(f\"Không tìm thấy sinh viên với mã: {msv_find}\")"
   ]
  },
  {
   "cell_type": "code",
   "execution_count": 146,
   "id": "5f74ecaf",
   "metadata": {},
   "outputs": [
    {
     "name": "stdout",
     "output_type": "stream",
     "text": [
      "Thêm sinh viên: \n",
      "Thêm sinh viên thành công\n"
     ]
    }
   ],
   "source": [
    "ql = StudentManagement()\n",
    "ql.add_student()"
   ]
  },
  {
   "cell_type": "code",
   "execution_count": 147,
   "id": "5a58fe60",
   "metadata": {},
   "outputs": [
    {
     "name": "stdout",
     "output_type": "stream",
     "text": [
      "Masv : 43, Hoten: thảo, MaLop: None, DiemTB: None\n"
     ]
    }
   ],
   "source": [
    "ql.show_student()"
   ]
  },
  {
   "cell_type": "code",
   "execution_count": 148,
   "id": "b1f9716d",
   "metadata": {},
   "outputs": [
    {
     "name": "stdout",
     "output_type": "stream",
     "text": [
      "Giá trị của cây là: 1\n"
     ]
    }
   ],
   "source": [
    "ql.height_student()"
   ]
  },
  {
   "cell_type": "code",
   "execution_count": 149,
   "id": "b115911a",
   "metadata": {},
   "outputs": [
    {
     "name": "stdout",
     "output_type": "stream",
     "text": [
      "Thêm sinh viên: \n"
     ]
    }
   ],
   "source": [
    "ql.add_student()"
   ]
  },
  {
   "cell_type": "code",
   "execution_count": 150,
   "id": "16216a87",
   "metadata": {},
   "outputs": [
    {
     "name": "stdout",
     "output_type": "stream",
     "text": [
      "Masv : 43, Hoten: thảo, MaLop: None, DiemTB: None\n",
      "Masv : 54, Hoten: nguyên, MaLop: None, DiemTB: None\n"
     ]
    }
   ],
   "source": [
    "ql.show_student()"
   ]
  },
  {
   "cell_type": "code",
   "execution_count": 151,
   "id": "e0f57aba",
   "metadata": {},
   "outputs": [
    {
     "name": "stdout",
     "output_type": "stream",
     "text": [
      "Thêm sinh viên: \n"
     ]
    }
   ],
   "source": [
    "ql.add_student()"
   ]
  },
  {
   "cell_type": "code",
   "execution_count": 152,
   "id": "388e401b",
   "metadata": {},
   "outputs": [
    {
     "name": "stdout",
     "output_type": "stream",
     "text": [
      "Masv : 12, Hoten: quỳnh, MaLop: None, DiemTB: None\n",
      "Masv : 43, Hoten: thảo, MaLop: None, DiemTB: None\n",
      "Masv : 54, Hoten: nguyên, MaLop: None, DiemTB: None\n"
     ]
    }
   ],
   "source": [
    "ql.show_student()"
   ]
  },
  {
   "cell_type": "code",
   "execution_count": 153,
   "id": "f2a6917c",
   "metadata": {},
   "outputs": [
    {
     "name": "stdout",
     "output_type": "stream",
     "text": [
      "Nút lá của cây là: 2\n"
     ]
    }
   ],
   "source": [
    "ql.countLeaf_student()"
   ]
  },
  {
   "cell_type": "code",
   "execution_count": 154,
   "id": "a3c6fdb8",
   "metadata": {},
   "outputs": [
    {
     "name": "stdout",
     "output_type": "stream",
     "text": [
      "tìm thấy sinh viên với mã: 12\n",
      "Masv : 12, Hoten: quỳnh, MaLop: None, DiemTB: None\n"
     ]
    }
   ],
   "source": [
    "ql.search_student()"
   ]
  },
  {
   "cell_type": "code",
   "execution_count": 155,
   "id": "e965884e",
   "metadata": {},
   "outputs": [
    {
     "name": "stdout",
     "output_type": "stream",
     "text": [
      "tìm thấy sinh viên với mã: 54\n",
      "Masv : 54, Hoten: nguyên, MaLop: None, DiemTB: None\n"
     ]
    }
   ],
   "source": [
    "ql.search_student()"
   ]
  },
  {
   "cell_type": "code",
   "execution_count": null,
   "id": "4a2842a4",
   "metadata": {},
   "outputs": [],
   "source": []
  }
 ],
 "metadata": {
  "kernelspec": {
   "display_name": "my_env",
   "language": "python",
   "name": "python3"
  },
  "language_info": {
   "codemirror_mode": {
    "name": "ipython",
    "version": 3
   },
   "file_extension": ".py",
   "mimetype": "text/x-python",
   "name": "python",
   "nbconvert_exporter": "python",
   "pygments_lexer": "ipython3",
   "version": "3.12.5"
  }
 },
 "nbformat": 4,
 "nbformat_minor": 5
}
